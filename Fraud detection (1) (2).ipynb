{
 "cells": [
  {
   "cell_type": "markdown",
   "id": "8dcba675",
   "metadata": {},
   "source": [
    "# Importing the required libraries\n"
   ]
  },
  {
   "cell_type": "code",
   "execution_count": 1,
   "id": "ece27a80",
   "metadata": {},
   "outputs": [],
   "source": [
    "import pandas as pd  # Library for data manipulation and analysis\n",
    "import matplotlib.pyplot as plt# for graph plotting\n",
    "import numpy as np\n",
    "import seaborn as sns # for graph plotting\n",
    "from sklearn.model_selection import train_test_split  # For splitting data into training and testing sets\n",
    "from sklearn.preprocessing import LabelEncoder  # For encoding categorical variables\n",
    "from sklearn.ensemble import RandomForestClassifier  # Random Forest classifier for fraud detection\n",
    "from sklearn.metrics import accuracy_score, precision_score, recall_score, f1_score, roc_auc_score, confusion_matrix # Metrics for model evaluation"
   ]
  },
  {
   "cell_type": "code",
   "execution_count": 2,
   "id": "0715fb1a",
   "metadata": {},
   "outputs": [],
   "source": [
    "data = pd.read_csv('DuplicatePayment.csv')  # Load the CSV file into a DataFrame\n"
   ]
  },
  {
   "cell_type": "code",
   "execution_count": 3,
   "id": "2f32aaa7",
   "metadata": {},
   "outputs": [
    {
     "data": {
      "text/html": [
       "<div>\n",
       "<style scoped>\n",
       "    .dataframe tbody tr th:only-of-type {\n",
       "        vertical-align: middle;\n",
       "    }\n",
       "\n",
       "    .dataframe tbody tr th {\n",
       "        vertical-align: top;\n",
       "    }\n",
       "\n",
       "    .dataframe thead th {\n",
       "        text-align: right;\n",
       "    }\n",
       "</style>\n",
       "<table border=\"1\" class=\"dataframe\">\n",
       "  <thead>\n",
       "    <tr style=\"text-align: right;\">\n",
       "      <th></th>\n",
       "      <th>Invoice #</th>\n",
       "      <th>PO Number</th>\n",
       "      <th>Payment Date</th>\n",
       "      <th>Payment #</th>\n",
       "      <th>Vendor #</th>\n",
       "      <th>Status</th>\n",
       "      <th>Invoice Amount</th>\n",
       "      <th>Invoice Date</th>\n",
       "      <th>Facility Id</th>\n",
       "      <th>Customer Status</th>\n",
       "      <th>Voucher ID</th>\n",
       "      <th>Dup Voucher</th>\n",
       "      <th>Matches Payment Criteria</th>\n",
       "      <th>Connect ID</th>\n",
       "      <th>DetectType</th>\n",
       "      <th>FacilityName_Decoded</th>\n",
       "      <th>VendorName_Decoded</th>\n",
       "    </tr>\n",
       "  </thead>\n",
       "  <tbody>\n",
       "    <tr>\n",
       "      <th>0</th>\n",
       "      <td>11449922-1</td>\n",
       "      <td>NaN</td>\n",
       "      <td>2023-03-23</td>\n",
       "      <td>9111827.0</td>\n",
       "      <td>107997</td>\n",
       "      <td>Paid-in-Full</td>\n",
       "      <td>222.05</td>\n",
       "      <td>2022-09-30</td>\n",
       "      <td>101080</td>\n",
       "      <td>False Positive</td>\n",
       "      <td>1655685.0</td>\n",
       "      <td>0.0</td>\n",
       "      <td>0.0</td>\n",
       "      <td>ZeOpT09cBI</td>\n",
       "      <td>Likely</td>\n",
       "      <td>James Salazar</td>\n",
       "      <td>Erika Richards</td>\n",
       "    </tr>\n",
       "    <tr>\n",
       "      <th>1</th>\n",
       "      <td>1144997-1</td>\n",
       "      <td>NaN</td>\n",
       "      <td>2022-12-08</td>\n",
       "      <td>9104785.0</td>\n",
       "      <td>107997</td>\n",
       "      <td>Paid-in-Full</td>\n",
       "      <td>222.05</td>\n",
       "      <td>2022-09-30</td>\n",
       "      <td>101080</td>\n",
       "      <td>NaN</td>\n",
       "      <td>1521497.0</td>\n",
       "      <td>0.0</td>\n",
       "      <td>0.0</td>\n",
       "      <td>ZeOpT09cBI</td>\n",
       "      <td>Likely</td>\n",
       "      <td>James Salazar</td>\n",
       "      <td>Erika Richards</td>\n",
       "    </tr>\n",
       "    <tr>\n",
       "      <th>2</th>\n",
       "      <td>1144998-1</td>\n",
       "      <td>NaN</td>\n",
       "      <td>2022-12-08</td>\n",
       "      <td>9104786.0</td>\n",
       "      <td>107997</td>\n",
       "      <td>Paid-in-Full</td>\n",
       "      <td>222.05</td>\n",
       "      <td>2022-09-30</td>\n",
       "      <td>101080</td>\n",
       "      <td>NaN</td>\n",
       "      <td>1521498.0</td>\n",
       "      <td>0.0</td>\n",
       "      <td>0.0</td>\n",
       "      <td>ZeOpT09cBI</td>\n",
       "      <td>Likely</td>\n",
       "      <td>James Salazar</td>\n",
       "      <td>Erika Richards</td>\n",
       "    </tr>\n",
       "    <tr>\n",
       "      <th>3</th>\n",
       "      <td>2171172</td>\n",
       "      <td>NaN</td>\n",
       "      <td>2023-03-16</td>\n",
       "      <td>9110794.0</td>\n",
       "      <td>108980</td>\n",
       "      <td>Paid-in-Full</td>\n",
       "      <td>200.00</td>\n",
       "      <td>2022-08-25</td>\n",
       "      <td>101080</td>\n",
       "      <td>Sent to Specialist</td>\n",
       "      <td>1650360.0</td>\n",
       "      <td>0.0</td>\n",
       "      <td>0.0</td>\n",
       "      <td>tRovMJK7vb</td>\n",
       "      <td>Likely</td>\n",
       "      <td>James Salazar</td>\n",
       "      <td>Lydia King</td>\n",
       "    </tr>\n",
       "    <tr>\n",
       "      <th>4</th>\n",
       "      <td>21711772</td>\n",
       "      <td>NaN</td>\n",
       "      <td>2023-02-23</td>\n",
       "      <td>9109377.0</td>\n",
       "      <td>108980</td>\n",
       "      <td>Paid-in-Full</td>\n",
       "      <td>200.00</td>\n",
       "      <td>2022-08-25</td>\n",
       "      <td>101080</td>\n",
       "      <td>NaN</td>\n",
       "      <td>1619307.0</td>\n",
       "      <td>0.0</td>\n",
       "      <td>0.0</td>\n",
       "      <td>tRovMJK7vb</td>\n",
       "      <td>Likely</td>\n",
       "      <td>James Salazar</td>\n",
       "      <td>Lydia King</td>\n",
       "    </tr>\n",
       "  </tbody>\n",
       "</table>\n",
       "</div>"
      ],
      "text/plain": [
       "    Invoice # PO Number Payment Date  Payment # Vendor #        Status  \\\n",
       "0  11449922-1       NaN   2023-03-23  9111827.0   107997  Paid-in-Full   \n",
       "1   1144997-1       NaN   2022-12-08  9104785.0   107997  Paid-in-Full   \n",
       "2   1144998-1       NaN   2022-12-08  9104786.0   107997  Paid-in-Full   \n",
       "3     2171172       NaN   2023-03-16  9110794.0   108980  Paid-in-Full   \n",
       "4    21711772       NaN   2023-02-23  9109377.0   108980  Paid-in-Full   \n",
       "\n",
       "   Invoice Amount Invoice Date  Facility Id     Customer Status  Voucher ID  \\\n",
       "0          222.05   2022-09-30       101080      False Positive   1655685.0   \n",
       "1          222.05   2022-09-30       101080                 NaN   1521497.0   \n",
       "2          222.05   2022-09-30       101080                 NaN   1521498.0   \n",
       "3          200.00   2022-08-25       101080  Sent to Specialist   1650360.0   \n",
       "4          200.00   2022-08-25       101080                 NaN   1619307.0   \n",
       "\n",
       "   Dup Voucher  Matches Payment Criteria  Connect ID DetectType  \\\n",
       "0          0.0                       0.0  ZeOpT09cBI     Likely   \n",
       "1          0.0                       0.0  ZeOpT09cBI     Likely   \n",
       "2          0.0                       0.0  ZeOpT09cBI     Likely   \n",
       "3          0.0                       0.0  tRovMJK7vb     Likely   \n",
       "4          0.0                       0.0  tRovMJK7vb     Likely   \n",
       "\n",
       "  FacilityName_Decoded VendorName_Decoded  \n",
       "0        James Salazar     Erika Richards  \n",
       "1        James Salazar     Erika Richards  \n",
       "2        James Salazar     Erika Richards  \n",
       "3        James Salazar         Lydia King  \n",
       "4        James Salazar         Lydia King  "
      ]
     },
     "execution_count": 3,
     "metadata": {},
     "output_type": "execute_result"
    }
   ],
   "source": [
    "\n",
    "#priting \n",
    "data.head()"
   ]
  },
  {
   "cell_type": "code",
   "execution_count": 4,
   "id": "df6d59fb",
   "metadata": {},
   "outputs": [
    {
     "data": {
      "text/html": [
       "<div>\n",
       "<style scoped>\n",
       "    .dataframe tbody tr th:only-of-type {\n",
       "        vertical-align: middle;\n",
       "    }\n",
       "\n",
       "    .dataframe tbody tr th {\n",
       "        vertical-align: top;\n",
       "    }\n",
       "\n",
       "    .dataframe thead th {\n",
       "        text-align: right;\n",
       "    }\n",
       "</style>\n",
       "<table border=\"1\" class=\"dataframe\">\n",
       "  <thead>\n",
       "    <tr style=\"text-align: right;\">\n",
       "      <th></th>\n",
       "      <th>Invoice #</th>\n",
       "      <th>PO Number</th>\n",
       "      <th>Payment Date</th>\n",
       "      <th>Payment #</th>\n",
       "      <th>Vendor #</th>\n",
       "      <th>Status</th>\n",
       "      <th>Invoice Amount</th>\n",
       "      <th>Invoice Date</th>\n",
       "      <th>Facility Id</th>\n",
       "      <th>Customer Status</th>\n",
       "      <th>Voucher ID</th>\n",
       "      <th>Dup Voucher</th>\n",
       "      <th>Matches Payment Criteria</th>\n",
       "      <th>Connect ID</th>\n",
       "      <th>DetectType</th>\n",
       "      <th>FacilityName_Decoded</th>\n",
       "      <th>VendorName_Decoded</th>\n",
       "    </tr>\n",
       "  </thead>\n",
       "  <tbody>\n",
       "    <tr>\n",
       "      <th>7011</th>\n",
       "      <td>J980807</td>\n",
       "      <td>101035004288</td>\n",
       "      <td>2021-09-23</td>\n",
       "      <td>7014721.0</td>\n",
       "      <td>106964</td>\n",
       "      <td>Paid-in-Full</td>\n",
       "      <td>137.00</td>\n",
       "      <td>2021-08-27</td>\n",
       "      <td>101035</td>\n",
       "      <td>NaN</td>\n",
       "      <td>955122.0</td>\n",
       "      <td>0.0</td>\n",
       "      <td>0.0</td>\n",
       "      <td>Jh1osXcejL</td>\n",
       "      <td>Maybe</td>\n",
       "      <td>Emily Osborn</td>\n",
       "      <td>Johnny Davies</td>\n",
       "    </tr>\n",
       "    <tr>\n",
       "      <th>7012</th>\n",
       "      <td>J980530</td>\n",
       "      <td>101035004233</td>\n",
       "      <td>2021-09-23</td>\n",
       "      <td>7014721.0</td>\n",
       "      <td>106964</td>\n",
       "      <td>Paid-in-Full</td>\n",
       "      <td>137.00</td>\n",
       "      <td>2021-08-27</td>\n",
       "      <td>101035</td>\n",
       "      <td>NaN</td>\n",
       "      <td>955125.0</td>\n",
       "      <td>0.0</td>\n",
       "      <td>0.0</td>\n",
       "      <td>Jh1osXcejL</td>\n",
       "      <td>Maybe</td>\n",
       "      <td>Emily Osborn</td>\n",
       "      <td>Johnny Davies</td>\n",
       "    </tr>\n",
       "    <tr>\n",
       "      <th>7013</th>\n",
       "      <td>7136408959</td>\n",
       "      <td>101085007351</td>\n",
       "      <td>2021-09-23</td>\n",
       "      <td>7004712.0</td>\n",
       "      <td>103085</td>\n",
       "      <td>Paid-in-Full</td>\n",
       "      <td>142.24</td>\n",
       "      <td>2021-08-28</td>\n",
       "      <td>101085</td>\n",
       "      <td>NaN</td>\n",
       "      <td>955198.0</td>\n",
       "      <td>0.0</td>\n",
       "      <td>0.0</td>\n",
       "      <td>6oeSWJD5mP</td>\n",
       "      <td>Maybe</td>\n",
       "      <td>Nicole Kerr</td>\n",
       "      <td>Heidi Lopez</td>\n",
       "    </tr>\n",
       "    <tr>\n",
       "      <th>7014</th>\n",
       "      <td>7136408949</td>\n",
       "      <td>101070024470</td>\n",
       "      <td>2021-09-23</td>\n",
       "      <td>7010987.0</td>\n",
       "      <td>103085</td>\n",
       "      <td>Paid-in-Full</td>\n",
       "      <td>142.24</td>\n",
       "      <td>2021-08-28</td>\n",
       "      <td>101070</td>\n",
       "      <td>NaN</td>\n",
       "      <td>955192.0</td>\n",
       "      <td>0.0</td>\n",
       "      <td>0.0</td>\n",
       "      <td>6oeSWJD5mP</td>\n",
       "      <td>Maybe</td>\n",
       "      <td>Wanda Graves</td>\n",
       "      <td>Heidi Lopez</td>\n",
       "    </tr>\n",
       "    <tr>\n",
       "      <th>7015</th>\n",
       "      <td>12000610567</td>\n",
       "      <td>NaN</td>\n",
       "      <td>2021-09-02</td>\n",
       "      <td>7002011.0</td>\n",
       "      <td>111188</td>\n",
       "      <td>Paid-in-Full</td>\n",
       "      <td>1216.00</td>\n",
       "      <td>2020-09-15</td>\n",
       "      <td>101201</td>\n",
       "      <td>NaN</td>\n",
       "      <td>955432.0</td>\n",
       "      <td>0.0</td>\n",
       "      <td>0.0</td>\n",
       "      <td>v0MxvK9CcD</td>\n",
       "      <td>Maybe</td>\n",
       "      <td>Christopher Fo</td>\n",
       "      <td>NaN</td>\n",
       "    </tr>\n",
       "  </tbody>\n",
       "</table>\n",
       "</div>"
      ],
      "text/plain": [
       "        Invoice #     PO Number Payment Date  Payment # Vendor #  \\\n",
       "7011      J980807  101035004288   2021-09-23  7014721.0   106964   \n",
       "7012      J980530  101035004233   2021-09-23  7014721.0   106964   \n",
       "7013   7136408959  101085007351   2021-09-23  7004712.0   103085   \n",
       "7014   7136408949  101070024470   2021-09-23  7010987.0   103085   \n",
       "7015  12000610567           NaN   2021-09-02  7002011.0   111188   \n",
       "\n",
       "            Status  Invoice Amount Invoice Date  Facility Id Customer Status  \\\n",
       "7011  Paid-in-Full          137.00   2021-08-27       101035             NaN   \n",
       "7012  Paid-in-Full          137.00   2021-08-27       101035             NaN   \n",
       "7013  Paid-in-Full          142.24   2021-08-28       101085             NaN   \n",
       "7014  Paid-in-Full          142.24   2021-08-28       101070             NaN   \n",
       "7015  Paid-in-Full         1216.00   2020-09-15       101201             NaN   \n",
       "\n",
       "      Voucher ID  Dup Voucher  Matches Payment Criteria  Connect ID  \\\n",
       "7011    955122.0          0.0                       0.0  Jh1osXcejL   \n",
       "7012    955125.0          0.0                       0.0  Jh1osXcejL   \n",
       "7013    955198.0          0.0                       0.0  6oeSWJD5mP   \n",
       "7014    955192.0          0.0                       0.0  6oeSWJD5mP   \n",
       "7015    955432.0          0.0                       0.0  v0MxvK9CcD   \n",
       "\n",
       "     DetectType FacilityName_Decoded VendorName_Decoded  \n",
       "7011      Maybe         Emily Osborn      Johnny Davies  \n",
       "7012      Maybe         Emily Osborn      Johnny Davies  \n",
       "7013      Maybe          Nicole Kerr        Heidi Lopez  \n",
       "7014      Maybe         Wanda Graves        Heidi Lopez  \n",
       "7015      Maybe       Christopher Fo                NaN  "
      ]
     },
     "execution_count": 4,
     "metadata": {},
     "output_type": "execute_result"
    }
   ],
   "source": [
    "data.tail()"
   ]
  },
  {
   "cell_type": "code",
   "execution_count": 5,
   "id": "8032c5a4",
   "metadata": {},
   "outputs": [
    {
     "name": "stdout",
     "output_type": "stream",
     "text": [
      "Missing Values:\n",
      " Invoice #                      0\n",
      "PO Number                   3691\n",
      "Payment Date                 807\n",
      "Payment #                    823\n",
      "Vendor #                       0\n",
      "Status                         0\n",
      "Invoice Amount                 0\n",
      "Invoice Date                   0\n",
      "Facility Id                    0\n",
      "Customer Status             6383\n",
      "Voucher ID                     1\n",
      "Dup Voucher                    2\n",
      "Matches Payment Criteria       2\n",
      "Connect ID                     0\n",
      "DetectType                     0\n",
      "FacilityName_Decoded           0\n",
      "VendorName_Decoded             1\n",
      "dtype: int64\n"
     ]
    }
   ],
   "source": [
    "#checkig if there are any missing values\n",
    "missing_values = data.isnull().sum()\n",
    "print(\"Missing Values:\\n\", missing_values)"
   ]
  },
  {
   "cell_type": "code",
   "execution_count": 6,
   "id": "b0c3ab19",
   "metadata": {},
   "outputs": [
    {
     "data": {
      "text/html": [
       "<div>\n",
       "<style scoped>\n",
       "    .dataframe tbody tr th:only-of-type {\n",
       "        vertical-align: middle;\n",
       "    }\n",
       "\n",
       "    .dataframe tbody tr th {\n",
       "        vertical-align: top;\n",
       "    }\n",
       "\n",
       "    .dataframe thead th {\n",
       "        text-align: right;\n",
       "    }\n",
       "</style>\n",
       "<table border=\"1\" class=\"dataframe\">\n",
       "  <thead>\n",
       "    <tr style=\"text-align: right;\">\n",
       "      <th></th>\n",
       "      <th>Payment #</th>\n",
       "      <th>Invoice Amount</th>\n",
       "      <th>Facility Id</th>\n",
       "      <th>Voucher ID</th>\n",
       "      <th>Dup Voucher</th>\n",
       "      <th>Matches Payment Criteria</th>\n",
       "    </tr>\n",
       "  </thead>\n",
       "  <tbody>\n",
       "    <tr>\n",
       "      <th>count</th>\n",
       "      <td>6.193000e+03</td>\n",
       "      <td>7016.000000</td>\n",
       "      <td>7016.000000</td>\n",
       "      <td>7.015000e+03</td>\n",
       "      <td>7014.000000</td>\n",
       "      <td>7014.000000</td>\n",
       "    </tr>\n",
       "    <tr>\n",
       "      <th>mean</th>\n",
       "      <td>6.475647e+06</td>\n",
       "      <td>3323.770676</td>\n",
       "      <td>101102.888398</td>\n",
       "      <td>1.222874e+06</td>\n",
       "      <td>0.001568</td>\n",
       "      <td>0.000143</td>\n",
       "    </tr>\n",
       "    <tr>\n",
       "      <th>std</th>\n",
       "      <td>2.824263e+06</td>\n",
       "      <td>10334.516073</td>\n",
       "      <td>59.318366</td>\n",
       "      <td>3.445266e+05</td>\n",
       "      <td>0.039573</td>\n",
       "      <td>0.011940</td>\n",
       "    </tr>\n",
       "    <tr>\n",
       "      <th>min</th>\n",
       "      <td>2.004000e+03</td>\n",
       "      <td>-8320.000000</td>\n",
       "      <td>101030.000000</td>\n",
       "      <td>7.799400e+04</td>\n",
       "      <td>0.000000</td>\n",
       "      <td>0.000000</td>\n",
       "    </tr>\n",
       "    <tr>\n",
       "      <th>25%</th>\n",
       "      <td>7.002487e+06</td>\n",
       "      <td>160.000000</td>\n",
       "      <td>101080.000000</td>\n",
       "      <td>1.024974e+06</td>\n",
       "      <td>0.000000</td>\n",
       "      <td>0.000000</td>\n",
       "    </tr>\n",
       "    <tr>\n",
       "      <th>50%</th>\n",
       "      <td>7.024380e+06</td>\n",
       "      <td>350.000000</td>\n",
       "      <td>101080.000000</td>\n",
       "      <td>1.234137e+06</td>\n",
       "      <td>0.000000</td>\n",
       "      <td>0.000000</td>\n",
       "    </tr>\n",
       "    <tr>\n",
       "      <th>75%</th>\n",
       "      <td>9.068889e+06</td>\n",
       "      <td>1800.000000</td>\n",
       "      <td>101088.000000</td>\n",
       "      <td>1.517320e+06</td>\n",
       "      <td>0.000000</td>\n",
       "      <td>0.000000</td>\n",
       "    </tr>\n",
       "    <tr>\n",
       "      <th>max</th>\n",
       "      <td>9.112910e+06</td>\n",
       "      <td>274253.000000</td>\n",
       "      <td>101353.000000</td>\n",
       "      <td>1.682574e+06</td>\n",
       "      <td>1.000000</td>\n",
       "      <td>1.000000</td>\n",
       "    </tr>\n",
       "  </tbody>\n",
       "</table>\n",
       "</div>"
      ],
      "text/plain": [
       "          Payment #  Invoice Amount    Facility Id    Voucher ID  Dup Voucher  \\\n",
       "count  6.193000e+03     7016.000000    7016.000000  7.015000e+03  7014.000000   \n",
       "mean   6.475647e+06     3323.770676  101102.888398  1.222874e+06     0.001568   \n",
       "std    2.824263e+06    10334.516073      59.318366  3.445266e+05     0.039573   \n",
       "min    2.004000e+03    -8320.000000  101030.000000  7.799400e+04     0.000000   \n",
       "25%    7.002487e+06      160.000000  101080.000000  1.024974e+06     0.000000   \n",
       "50%    7.024380e+06      350.000000  101080.000000  1.234137e+06     0.000000   \n",
       "75%    9.068889e+06     1800.000000  101088.000000  1.517320e+06     0.000000   \n",
       "max    9.112910e+06   274253.000000  101353.000000  1.682574e+06     1.000000   \n",
       "\n",
       "       Matches Payment Criteria  \n",
       "count               7014.000000  \n",
       "mean                   0.000143  \n",
       "std                    0.011940  \n",
       "min                    0.000000  \n",
       "25%                    0.000000  \n",
       "50%                    0.000000  \n",
       "75%                    0.000000  \n",
       "max                    1.000000  "
      ]
     },
     "execution_count": 6,
     "metadata": {},
     "output_type": "execute_result"
    }
   ],
   "source": [
    "data.describe()"
   ]
  },
  {
   "cell_type": "code",
   "execution_count": 7,
   "id": "f99e3ef1",
   "metadata": {},
   "outputs": [
    {
     "name": "stdout",
     "output_type": "stream",
     "text": [
      "<class 'pandas.core.frame.DataFrame'>\n",
      "RangeIndex: 7016 entries, 0 to 7015\n",
      "Data columns (total 17 columns):\n",
      " #   Column                    Non-Null Count  Dtype  \n",
      "---  ------                    --------------  -----  \n",
      " 0   Invoice #                 7016 non-null   object \n",
      " 1   PO Number                 3325 non-null   object \n",
      " 2   Payment Date              6209 non-null   object \n",
      " 3   Payment #                 6193 non-null   float64\n",
      " 4   Vendor #                  7016 non-null   object \n",
      " 5   Status                    7016 non-null   object \n",
      " 6   Invoice Amount            7016 non-null   float64\n",
      " 7   Invoice Date              7016 non-null   object \n",
      " 8   Facility Id               7016 non-null   int64  \n",
      " 9   Customer Status           633 non-null    object \n",
      " 10  Voucher ID                7015 non-null   float64\n",
      " 11  Dup Voucher               7014 non-null   float64\n",
      " 12  Matches Payment Criteria  7014 non-null   float64\n",
      " 13  Connect ID                7016 non-null   object \n",
      " 14  DetectType                7016 non-null   object \n",
      " 15  FacilityName_Decoded      7016 non-null   object \n",
      " 16  VendorName_Decoded        7015 non-null   object \n",
      "dtypes: float64(5), int64(1), object(11)\n",
      "memory usage: 931.9+ KB\n"
     ]
    }
   ],
   "source": [
    "data.info()"
   ]
  },
  {
   "cell_type": "code",
   "execution_count": 8,
   "id": "c14e1721",
   "metadata": {},
   "outputs": [
    {
     "name": "stdout",
     "output_type": "stream",
     "text": [
      "Column 'Invoice Date' is in datetime format.\n",
      "Column 'Payment Date' is in datetime format.\n"
     ]
    }
   ],
   "source": [
    "\n",
    "# Function to check if a column is in datetime format\n",
    "def is_datetime_column(column):\n",
    "    try:\n",
    "        pd.to_datetime(column, errors='raise')\n",
    "        return True\n",
    "    except:\n",
    "        return False\n",
    "\n",
    "if is_datetime_column(data['Invoice Date']):\n",
    "    print(\"Column 'Invoice Date' is in datetime format.\")\n",
    "else:\n",
    "    print(\"Column 'Invoice Date' is not in datetime format.\")\n",
    "\n",
    "# Check 'Payment Date' column\n",
    "if is_datetime_column(data['Payment Date']):\n",
    "    print(\"Column 'Payment Date' is in datetime format.\")\n",
    "else:\n",
    "    print(\"Column 'Payment Date' is not in datetime format.\")"
   ]
  },
  {
   "cell_type": "code",
   "execution_count": 9,
   "id": "93a92c93",
   "metadata": {},
   "outputs": [],
   "source": [
    "# Convert date columns to datetime format\n",
    "data['Payment Date'] = pd.to_datetime(data['Payment Date'], errors='coerce')  # Convert 'Payment Date' to datetime"
   ]
  },
  {
   "cell_type": "code",
   "execution_count": 10,
   "id": "ee447e5d",
   "metadata": {},
   "outputs": [
    {
     "name": "stdout",
     "output_type": "stream",
     "text": [
      "No columns contain both strings and integers.\n"
     ]
    }
   ],
   "source": [
    "\n",
    "# Function to check if a column contains both strings and integers\n",
    "def has_mixed_data_types(column):\n",
    "    return any(isinstance(item, str) for item in column) and any(isinstance(item, int) for item in column)\n",
    "\n",
    "# Iterate through the columns and check for mixed data types\n",
    "columns_with_mixed_types = []\n",
    "for col in data.columns:\n",
    "    if has_mixed_data_types(data[col]):\n",
    "        columns_with_mixed_types.append(col)\n",
    "\n",
    "# Print the columns with mixed data types\n",
    "if columns_with_mixed_types:\n",
    "    print(\"Columns with both strings and integers:\")\n",
    "    for col in columns_with_mixed_types:\n",
    "        print(f\"  - {col}\")\n",
    "else:\n",
    "    print(\"No columns contain both strings and integers.\")"
   ]
  },
  {
   "cell_type": "code",
   "execution_count": 11,
   "id": "f3f39a50",
   "metadata": {},
   "outputs": [],
   "source": [
    "\n",
    "# Convert MIXED columnS values to strings\n",
    "data['Customer Status'] = data['Customer Status'].astype(str)\n",
    "data['PO Number'] = data['PO Number'].astype(str)"
   ]
  },
  {
   "cell_type": "code",
   "execution_count": 12,
   "id": "8fb790f1",
   "metadata": {},
   "outputs": [],
   "source": [
    "# Encode categorical columns\n",
    "label_encoder = LabelEncoder()  # Initialize the LabelEncoder\n",
    "data['Status'] = label_encoder.fit_transform(data['Status'])  # Encode 'Status' column\n",
    "data['Customer Status'] = label_encoder.fit_transform(data['Customer Status'])  # Encode 'Customer Status' column"
   ]
  },
  {
   "cell_type": "markdown",
   "id": "db0754f0",
   "metadata": {},
   "source": [
    "# Step 3: Feature Engineering"
   ]
  },
  {
   "cell_type": "code",
   "execution_count": 13,
   "id": "36e62842",
   "metadata": {},
   "outputs": [],
   "source": [
    "# For simplicity, we will use only a subset of features for the model.\n",
    "features = ['Invoice Amount', 'Status', 'Customer Status']  # Select features to be used for fraud detection"
   ]
  },
  {
   "cell_type": "markdown",
   "id": "2b173094",
   "metadata": {},
   "source": [
    "# Step 4: Fraud Detection Model"
   ]
  },
  {
   "cell_type": "code",
   "execution_count": 14,
   "id": "9a7fe9be",
   "metadata": {},
   "outputs": [],
   "source": [
    "# Splitting data into features (X) and target (y)\n",
    "X = data[features]  # Features (input) DataFrame\n",
    "y = data['DetectType'] \n"
   ]
  },
  {
   "cell_type": "code",
   "execution_count": 15,
   "id": "fa07079f",
   "metadata": {},
   "outputs": [],
   "source": [
    "# Splitting data into training and testing sets\n",
    "X_train, X_test, y_train, y_test = train_test_split(X, y, test_size=0.2, random_state=42)  # 80% train, 20% test split"
   ]
  },
  {
   "cell_type": "code",
   "execution_count": 16,
   "id": "9800907c-e4d9-4a2a-b8e8-f8a59c270d4e",
   "metadata": {},
   "outputs": [
    {
     "data": {
      "text/plain": [
       "(1404,)"
      ]
     },
     "execution_count": 16,
     "metadata": {},
     "output_type": "execute_result"
    }
   ],
   "source": [
    "y_test.shape"
   ]
  },
  {
   "cell_type": "markdown",
   "id": "c3381912",
   "metadata": {},
   "source": [
    "# Step 5: Model Training"
   ]
  },
  {
   "cell_type": "code",
   "execution_count": 17,
   "id": "02cfd6b5",
   "metadata": {},
   "outputs": [
    {
     "data": {
      "text/html": [
       "<style>#sk-container-id-1 {color: black;}#sk-container-id-1 pre{padding: 0;}#sk-container-id-1 div.sk-toggleable {background-color: white;}#sk-container-id-1 label.sk-toggleable__label {cursor: pointer;display: block;width: 100%;margin-bottom: 0;padding: 0.3em;box-sizing: border-box;text-align: center;}#sk-container-id-1 label.sk-toggleable__label-arrow:before {content: \"▸\";float: left;margin-right: 0.25em;color: #696969;}#sk-container-id-1 label.sk-toggleable__label-arrow:hover:before {color: black;}#sk-container-id-1 div.sk-estimator:hover label.sk-toggleable__label-arrow:before {color: black;}#sk-container-id-1 div.sk-toggleable__content {max-height: 0;max-width: 0;overflow: hidden;text-align: left;background-color: #f0f8ff;}#sk-container-id-1 div.sk-toggleable__content pre {margin: 0.2em;color: black;border-radius: 0.25em;background-color: #f0f8ff;}#sk-container-id-1 input.sk-toggleable__control:checked~div.sk-toggleable__content {max-height: 200px;max-width: 100%;overflow: auto;}#sk-container-id-1 input.sk-toggleable__control:checked~label.sk-toggleable__label-arrow:before {content: \"▾\";}#sk-container-id-1 div.sk-estimator input.sk-toggleable__control:checked~label.sk-toggleable__label {background-color: #d4ebff;}#sk-container-id-1 div.sk-label input.sk-toggleable__control:checked~label.sk-toggleable__label {background-color: #d4ebff;}#sk-container-id-1 input.sk-hidden--visually {border: 0;clip: rect(1px 1px 1px 1px);clip: rect(1px, 1px, 1px, 1px);height: 1px;margin: -1px;overflow: hidden;padding: 0;position: absolute;width: 1px;}#sk-container-id-1 div.sk-estimator {font-family: monospace;background-color: #f0f8ff;border: 1px dotted black;border-radius: 0.25em;box-sizing: border-box;margin-bottom: 0.5em;}#sk-container-id-1 div.sk-estimator:hover {background-color: #d4ebff;}#sk-container-id-1 div.sk-parallel-item::after {content: \"\";width: 100%;border-bottom: 1px solid gray;flex-grow: 1;}#sk-container-id-1 div.sk-label:hover label.sk-toggleable__label {background-color: #d4ebff;}#sk-container-id-1 div.sk-serial::before {content: \"\";position: absolute;border-left: 1px solid gray;box-sizing: border-box;top: 0;bottom: 0;left: 50%;z-index: 0;}#sk-container-id-1 div.sk-serial {display: flex;flex-direction: column;align-items: center;background-color: white;padding-right: 0.2em;padding-left: 0.2em;position: relative;}#sk-container-id-1 div.sk-item {position: relative;z-index: 1;}#sk-container-id-1 div.sk-parallel {display: flex;align-items: stretch;justify-content: center;background-color: white;position: relative;}#sk-container-id-1 div.sk-item::before, #sk-container-id-1 div.sk-parallel-item::before {content: \"\";position: absolute;border-left: 1px solid gray;box-sizing: border-box;top: 0;bottom: 0;left: 50%;z-index: -1;}#sk-container-id-1 div.sk-parallel-item {display: flex;flex-direction: column;z-index: 1;position: relative;background-color: white;}#sk-container-id-1 div.sk-parallel-item:first-child::after {align-self: flex-end;width: 50%;}#sk-container-id-1 div.sk-parallel-item:last-child::after {align-self: flex-start;width: 50%;}#sk-container-id-1 div.sk-parallel-item:only-child::after {width: 0;}#sk-container-id-1 div.sk-dashed-wrapped {border: 1px dashed gray;margin: 0 0.4em 0.5em 0.4em;box-sizing: border-box;padding-bottom: 0.4em;background-color: white;}#sk-container-id-1 div.sk-label label {font-family: monospace;font-weight: bold;display: inline-block;line-height: 1.2em;}#sk-container-id-1 div.sk-label-container {text-align: center;}#sk-container-id-1 div.sk-container {/* jupyter's `normalize.less` sets `[hidden] { display: none; }` but bootstrap.min.css set `[hidden] { display: none !important; }` so we also need the `!important` here to be able to override the default hidden behavior on the sphinx rendered scikit-learn.org. See: https://github.com/scikit-learn/scikit-learn/issues/21755 */display: inline-block !important;position: relative;}#sk-container-id-1 div.sk-text-repr-fallback {display: none;}</style><div id=\"sk-container-id-1\" class=\"sk-top-container\"><div class=\"sk-text-repr-fallback\"><pre>RandomForestClassifier(random_state=42)</pre><b>In a Jupyter environment, please rerun this cell to show the HTML representation or trust the notebook. <br />On GitHub, the HTML representation is unable to render, please try loading this page with nbviewer.org.</b></div><div class=\"sk-container\" hidden><div class=\"sk-item\"><div class=\"sk-estimator sk-toggleable\"><input class=\"sk-toggleable__control sk-hidden--visually\" id=\"sk-estimator-id-1\" type=\"checkbox\" checked><label for=\"sk-estimator-id-1\" class=\"sk-toggleable__label sk-toggleable__label-arrow\">RandomForestClassifier</label><div class=\"sk-toggleable__content\"><pre>RandomForestClassifier(random_state=42)</pre></div></div></div></div></div>"
      ],
      "text/plain": [
       "RandomForestClassifier(random_state=42)"
      ]
     },
     "execution_count": 17,
     "metadata": {},
     "output_type": "execute_result"
    }
   ],
   "source": [
    "rf_classifier = RandomForestClassifier(random_state=42)  # Initialize the Random Forest Classifier\n",
    "rf_classifier.fit(X_train, y_train)  # Train the classifier using the training data"
   ]
  },
  {
   "cell_type": "markdown",
   "id": "64e60c02",
   "metadata": {},
   "source": [
    "# Step 6: Model Evaluation"
   ]
  },
  {
   "cell_type": "code",
   "execution_count": 18,
   "id": "2ff4a172",
   "metadata": {},
   "outputs": [],
   "source": [
    "# Predict on the test set\n",
    "y_pred = rf_classifier.predict(X_test)  # Predict the target labels for the test data"
   ]
  },
  {
   "cell_type": "code",
   "execution_count": 19,
   "id": "e557bdc2",
   "metadata": {},
   "outputs": [
    {
     "name": "stdout",
     "output_type": "stream",
     "text": [
      "Predicted Output:\n",
      "['Maybe' 'Maybe' 'Likely' ... 'Maybe' 'Maybe' 'Maybe']\n"
     ]
    }
   ],
   "source": [
    "# Display the predicted output\n",
    "print(\"Predicted Output:\")\n",
    "print(y_pred)"
   ]
  },
  {
   "cell_type": "code",
   "execution_count": 20,
   "id": "071a3f78",
   "metadata": {},
   "outputs": [
    {
     "ename": "SyntaxError",
     "evalue": "invalid syntax (1894187307.py, line 6)",
     "output_type": "error",
     "traceback": [
      "\u001b[1;36m  Cell \u001b[1;32mIn[20], line 6\u001b[1;36m\u001b[0m\n\u001b[1;33m    //roc_auc = roc_auc_score(y_test, rf_classifier.predict_proba(X_test), multi_class='ovr')  # Calculate the ROC AUC score\u001b[0m\n\u001b[1;37m    ^\u001b[0m\n\u001b[1;31mSyntaxError\u001b[0m\u001b[1;31m:\u001b[0m invalid syntax\n"
     ]
    }
   ],
   "source": [
    "# Evaluate the model\n",
    "accuracy = accuracy_score(y_test, y_pred)  # Calculate the accuracy of the model\n",
    "precision = precision_score(y_test, y_pred, average='weighted')  # Calculate the weighted precision\n",
    "recall = recall_score(y_test, y_pred, average='weighted')  # Calculate the weighted recall\n",
    "f1 = f1_score(y_test, y_pred, average='weighted')  # Calculate the weighted F1 score\n",
    "//roc_auc = roc_auc_score(y_test, rf_classifier.predict_proba(X_test), multi_class='ovr')  # Calculate the ROC AUC score\n",
    "\n",
    "\n",
    "\n",
    "\n",
    "\n"
   ]
  },
  {
   "cell_type": "markdown",
   "id": "ddaac916",
   "metadata": {},
   "source": [
    "# Step 7: Display Evaluation Metrics"
   ]
  },
  {
   "cell_type": "code",
   "execution_count": 21,
   "id": "28bded71",
   "metadata": {},
   "outputs": [
    {
     "ename": "NameError",
     "evalue": "name 'accuracy' is not defined",
     "output_type": "error",
     "traceback": [
      "\u001b[1;31m---------------------------------------------------------------------------\u001b[0m",
      "\u001b[1;31mNameError\u001b[0m                                 Traceback (most recent call last)",
      "Cell \u001b[1;32mIn[21], line 1\u001b[0m\n\u001b[1;32m----> 1\u001b[0m \u001b[38;5;28mprint\u001b[39m(\u001b[38;5;124m\"\u001b[39m\u001b[38;5;124mAccuracy:\u001b[39m\u001b[38;5;124m\"\u001b[39m, \u001b[43maccuracy\u001b[49m)\n\u001b[0;32m      2\u001b[0m \u001b[38;5;28mprint\u001b[39m(\u001b[38;5;124m\"\u001b[39m\u001b[38;5;124mPrecision:\u001b[39m\u001b[38;5;124m\"\u001b[39m, precision)\n\u001b[0;32m      3\u001b[0m \u001b[38;5;28mprint\u001b[39m(\u001b[38;5;124m\"\u001b[39m\u001b[38;5;124mRecall:\u001b[39m\u001b[38;5;124m\"\u001b[39m, recall)\n",
      "\u001b[1;31mNameError\u001b[0m: name 'accuracy' is not defined"
     ]
    }
   ],
   "source": [
    "print(\"Accuracy:\", accuracy)\n",
    "print(\"Precision:\", precision)\n",
    "print(\"Recall:\", recall)\n",
    "print(\"F1 Score:\", f1)\n",
    "print(\"ROC AUC:\", roc_auc)"
   ]
  },
  {
   "cell_type": "markdown",
   "id": "8cbbd8d1",
   "metadata": {},
   "source": [
    "\n",
    "# Step 8: Confusion Matrix"
   ]
  },
  {
   "cell_type": "code",
   "execution_count": 94,
   "id": "200ad9e4",
   "metadata": {},
   "outputs": [
    {
     "data": {
      "image/png": "[encoded data removed]",
      "text/plain": [
       "<Figure size 800x600 with 1 Axes>"
      ]
     },
     "metadata": {},
     "output_type": "display_data"
    }
   ],
   "source": [
    "confusion_mat = confusion_matrix(y_test, y_pred)\n",
    "plt.figure(figsize=(8, 6))\n",
    "sns.heatmap(confusion_mat, annot=True, fmt='d', cmap='Blues', cbar=False)\n",
    "plt.xlabel('Predicted Label')\n",
    "plt.ylabel('True Label')\n",
    "plt.title('Confusion Matrix')\n",
    "plt.show()"
   ]
  },
  {
   "cell_type": "code",
   "execution_count": null,
   "id": "569d7473-00b1-49cc-af99-e971ab75065c",
   "metadata": {},
   "outputs": [],
   "source": []
  },
  {
   "cell_type": "code",
   "execution_count": null,
   "id": "700b9f6f-2492-4846-908f-2780c700fc42",
   "metadata": {},
   "outputs": [],
   "source": []
  }
 ],
 "metadata": {
  "kernelspec": {
   "display_name": "Python 3 (ipykernel)",
   "language": "python",
   "name": "python3"
  },
  "language_info": {
   "codemirror_mode": {
    "name": "ipython",
    "version": 3
   },
   "file_extension": ".py",
   "mimetype": "text/x-python",
   "name": "python",
   "nbconvert_exporter": "python",
   "pygments_lexer": "ipython3",
   "version": "3.11.4"
  }
 },
 "nbformat": 4,
 "nbformat_minor": 5
}
