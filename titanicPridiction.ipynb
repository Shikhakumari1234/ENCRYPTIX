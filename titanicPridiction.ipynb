{
 "cells": [
  {
   "cell_type": "code",
   "execution_count": 2,
   "id": "29a9b757-1f5c-477f-b787-071b4670df07",
   "metadata": {},
   "outputs": [],
   "source": [
    "import pandas as pd\n",
    "from sklearn.model_selection import train_test_split\n",
    "from sklearn.linear_model import LogisticRegression\n",
    "from sklearn.metrics import accuracy_score\n",
    "from sklearn.preprocessing import StandardScaler"
   ]
  },
  {
   "cell_type": "code",
   "execution_count": 3,
   "id": "3554cada-6ac3-489a-ad0a-0c35b9af6c49",
   "metadata": {},
   "outputs": [],
   "source": [
    "titanic_data = pd.read_csv('train.csv') "
   ]
  },
  {
   "cell_type": "code",
   "execution_count": 4,
   "id": "230136c4-e12b-4c69-a64e-f06858356ee2",
   "metadata": {},
   "outputs": [],
   "source": [
    "titanic_data['Age'].fillna(titanic_data['Age'].mean(), inplace=True)\n",
    "titanic_data['Embarked'].fillna(titanic_data['Embarked'].mode()[0], inplace=True)\n"
   ]
  },
  {
   "cell_type": "code",
   "execution_count": 5,
   "id": "a43f5b3f-3f66-485c-bd92-ac31f51cbbea",
   "metadata": {},
   "outputs": [],
   "source": [
    "titanic_data['Sex'] = titanic_data['Sex'].map({'male': 0, 'female': 1})\n",
    "titanic_data['Embarked'] = titanic_data['Embarked'].map({'S': 0, 'C': 1, 'Q': 2})"
   ]
  },
  {
   "cell_type": "code",
   "execution_count": 6,
   "id": "7ee3a2f9-9cdf-4def-b50d-ee89a0145779",
   "metadata": {},
   "outputs": [],
   "source": [
    "titanic_data.drop(['PassengerId', 'Name', 'Ticket', 'Cabin' ,'Fare' ], axis=1, inplace=True)\n"
   ]
  },
  {
   "cell_type": "code",
   "execution_count": 7,
   "id": "b01dfbc2-0fc1-4fc9-9eb4-b9af195819a1",
   "metadata": {},
   "outputs": [],
   "source": [
    "X = titanic_data.drop('Survived', axis=1)\n",
    "y = titanic_data['Survived']"
   ]
  },
  {
   "cell_type": "code",
   "execution_count": 8,
   "id": "be995336-380b-4812-86d4-5f6732c8d443",
   "metadata": {},
   "outputs": [],
   "source": [
    "x_train, x_test, y_train, y_test = train_test_split(X, y, test_size=0.2, random_state=42)\n"
   ]
  },
  {
   "cell_type": "code",
   "execution_count": 9,
   "id": "f07fdd32-e859-4378-8c8e-0bc5b58891cc",
   "metadata": {},
   "outputs": [],
   "source": [
    "scaler = StandardScaler()\n",
    "x_train = scaler.fit_transform(x_train)\n",
    "x_test = scaler.transform(x_test)\n"
   ]
  },
  {
   "cell_type": "code",
   "execution_count": 10,
   "id": "7ba1ce60-2d22-4df8-967c-53b9054744e7",
   "metadata": {},
   "outputs": [
    {
     "data": {
      "text/html": [
       "<style>#sk-container-id-1 {color: black;background-color: white;}#sk-container-id-1 pre{padding: 0;}#sk-container-id-1 div.sk-toggleable {background-color: white;}#sk-container-id-1 label.sk-toggleable__label {cursor: pointer;display: block;width: 100%;margin-bottom: 0;padding: 0.3em;box-sizing: border-box;text-align: center;}#sk-container-id-1 label.sk-toggleable__label-arrow:before {content: \"▸\";float: left;margin-right: 0.25em;color: #696969;}#sk-container-id-1 label.sk-toggleable__label-arrow:hover:before {color: black;}#sk-container-id-1 div.sk-estimator:hover label.sk-toggleable__label-arrow:before {color: black;}#sk-container-id-1 div.sk-toggleable__content {max-height: 0;max-width: 0;overflow: hidden;text-align: left;background-color: #f0f8ff;}#sk-container-id-1 div.sk-toggleable__content pre {margin: 0.2em;color: black;border-radius: 0.25em;background-color: #f0f8ff;}#sk-container-id-1 input.sk-toggleable__control:checked~div.sk-toggleable__content {max-height: 200px;max-width: 100%;overflow: auto;}#sk-container-id-1 input.sk-toggleable__control:checked~label.sk-toggleable__label-arrow:before {content: \"▾\";}#sk-container-id-1 div.sk-estimator input.sk-toggleable__control:checked~label.sk-toggleable__label {background-color: #d4ebff;}#sk-container-id-1 div.sk-label input.sk-toggleable__control:checked~label.sk-toggleable__label {background-color: #d4ebff;}#sk-container-id-1 input.sk-hidden--visually {border: 0;clip: rect(1px 1px 1px 1px);clip: rect(1px, 1px, 1px, 1px);height: 1px;margin: -1px;overflow: hidden;padding: 0;position: absolute;width: 1px;}#sk-container-id-1 div.sk-estimator {font-family: monospace;background-color: #f0f8ff;border: 1px dotted black;border-radius: 0.25em;box-sizing: border-box;margin-bottom: 0.5em;}#sk-container-id-1 div.sk-estimator:hover {background-color: #d4ebff;}#sk-container-id-1 div.sk-parallel-item::after {content: \"\";width: 100%;border-bottom: 1px solid gray;flex-grow: 1;}#sk-container-id-1 div.sk-label:hover label.sk-toggleable__label {background-color: #d4ebff;}#sk-container-id-1 div.sk-serial::before {content: \"\";position: absolute;border-left: 1px solid gray;box-sizing: border-box;top: 0;bottom: 0;left: 50%;z-index: 0;}#sk-container-id-1 div.sk-serial {display: flex;flex-direction: column;align-items: center;background-color: white;padding-right: 0.2em;padding-left: 0.2em;position: relative;}#sk-container-id-1 div.sk-item {position: relative;z-index: 1;}#sk-container-id-1 div.sk-parallel {display: flex;align-items: stretch;justify-content: center;background-color: white;position: relative;}#sk-container-id-1 div.sk-item::before, #sk-container-id-1 div.sk-parallel-item::before {content: \"\";position: absolute;border-left: 1px solid gray;box-sizing: border-box;top: 0;bottom: 0;left: 50%;z-index: -1;}#sk-container-id-1 div.sk-parallel-item {display: flex;flex-direction: column;z-index: 1;position: relative;background-color: white;}#sk-container-id-1 div.sk-parallel-item:first-child::after {align-self: flex-end;width: 50%;}#sk-container-id-1 div.sk-parallel-item:last-child::after {align-self: flex-start;width: 50%;}#sk-container-id-1 div.sk-parallel-item:only-child::after {width: 0;}#sk-container-id-1 div.sk-dashed-wrapped {border: 1px dashed gray;margin: 0 0.4em 0.5em 0.4em;box-sizing: border-box;padding-bottom: 0.4em;background-color: white;}#sk-container-id-1 div.sk-label label {font-family: monospace;font-weight: bold;display: inline-block;line-height: 1.2em;}#sk-container-id-1 div.sk-label-container {text-align: center;}#sk-container-id-1 div.sk-container {/* jupyter's `normalize.less` sets `[hidden] { display: none; }` but bootstrap.min.css set `[hidden] { display: none !important; }` so we also need the `!important` here to be able to override the default hidden behavior on the sphinx rendered scikit-learn.org. See: https://github.com/scikit-learn/scikit-learn/issues/21755 */display: inline-block !important;position: relative;}#sk-container-id-1 div.sk-text-repr-fallback {display: none;}</style><div id=\"sk-container-id-1\" class=\"sk-top-container\"><div class=\"sk-text-repr-fallback\"><pre>LogisticRegression()</pre><b>In a Jupyter environment, please rerun this cell to show the HTML representation or trust the notebook. <br />On GitHub, the HTML representation is unable to render, please try loading this page with nbviewer.org.</b></div><div class=\"sk-container\" hidden><div class=\"sk-item\"><div class=\"sk-estimator sk-toggleable\"><input class=\"sk-toggleable__control sk-hidden--visually\" id=\"sk-estimator-id-1\" type=\"checkbox\" checked><label for=\"sk-estimator-id-1\" class=\"sk-toggleable__label sk-toggleable__label-arrow\">LogisticRegression</label><div class=\"sk-toggleable__content\"><pre>LogisticRegression()</pre></div></div></div></div></div>"
      ],
      "text/plain": [
       "LogisticRegression()"
      ]
     },
     "execution_count": 10,
     "metadata": {},
     "output_type": "execute_result"
    }
   ],
   "source": [
    "model = LogisticRegression()\n",
    "model.fit(x_train, y_train)"
   ]
  },
  {
   "cell_type": "code",
   "execution_count": 11,
   "id": "84b97159-6a53-45c8-924d-84c898d91df0",
   "metadata": {},
   "outputs": [],
   "source": [
    "train_predictions = model.predict(x_train)\n",
    "test_predictions = model.predict(x_test)"
   ]
  },
  {
   "cell_type": "code",
   "execution_count": 12,
   "id": "121af610-7364-46f8-a487-a8cc4fb7e29f",
   "metadata": {},
   "outputs": [],
   "source": [
    "train_accuracy = accuracy_score(y_train, train_predictions)\n",
    "test_accuracy = accuracy_score(y_test, test_predictions)\n"
   ]
  },
  {
   "cell_type": "code",
   "execution_count": 13,
   "id": "a75c92b8-0bc7-443f-a800-951fc1d687df",
   "metadata": {},
   "outputs": [
    {
     "name": "stdout",
     "output_type": "stream",
     "text": [
      "Training Data Accuracy: 0.8019662921348315\n",
      "Test Data Accuracy: 0.8100558659217877\n"
     ]
    }
   ],
   "source": [
    "print('Training Data Accuracy:', train_accuracy)\n",
    "print('Test Data Accuracy:', test_accuracy)"
   ]
  },
  {
   "cell_type": "code",
   "execution_count": 14,
   "id": "f123fca9-023b-43b0-8392-a802568a9647",
   "metadata": {},
   "outputs": [
    {
     "name": "stdin",
     "output_type": "stream",
     "text": [
      "Enter Pclass (1, 2, or 3):  1\n",
      "Enter Sex (0 for male, 1 for female):  1\n",
      "Enter Age:  23\n"
     ]
    },
    {
     "name": "stdout",
     "output_type": "stream",
     "text": [
      "Survival Status: Survived\n",
      "Survival Probability: 0.94\n"
     ]
    }
   ],
   "source": [
    "# Function to predict survival\n",
    "def predict_survival(pclass, sex, age):\n",
    "    sibsp = 0\n",
    "    parch = 0\n",
    "    embarked = 0  \n",
    "\n",
    "    \n",
    "    new_data = pd.DataFrame({\n",
    "        'Pclass': [pclass],\n",
    "        'Sex': [sex],\n",
    "        'Age': [age],\n",
    "        'SibSp': [sibsp],\n",
    "        'Parch': [parch],\n",
    "        'Embarked': [embarked]\n",
    "    })\n",
    "\n",
    "    # Ensure the new data has the same columns as the training data\n",
    "    new_data = new_data[['Pclass', 'Sex', 'Age', 'SibSp', 'Parch',  'Embarked']]\n",
    "    \n",
    "    new_data_scaled = scaler.transform(new_data)\n",
    "\n",
    "    survival_prediction = model.predict(new_data_scaled)\n",
    "    survival_probability = model.predict_proba(new_data_scaled)\n",
    "\n",
    "    survival_status = \"Survived\" if survival_prediction[0] == 1 else \"Did not survive\"\n",
    "\n",
    "    return survival_status, survival_probability[0][1]\n",
    "\n",
    "# Get user input\n",
    "pclass = int(input(\"Enter Pclass (1, 2, or 3): \"))\n",
    "sex = int(input(\"Enter Sex (0 for male, 1 for female): \"))\n",
    "age = float(input(\"Enter Age: \"))\n",
    "\n",
    "# Make prediction\n",
    "status, probability = predict_survival(pclass, sex, age)\n",
    "print(f\"Survival Status: {status}\")\n",
    "print(f\"Survival Probability: {probability:.2f}\")"
   ]
  },
  {
   "cell_type": "code",
   "execution_count": 15,
   "id": "6826038a-5a74-4e10-be9a-31383869917a",
   "metadata": {},
   "outputs": [
    {
     "name": "stdin",
     "output_type": "stream",
     "text": [
      "Enter Pclass (1, 2, or 3):  1\n",
      "Enter Sex (0 for male, 1 for female):  0\n",
      "Enter Age:  23\n"
     ]
    },
    {
     "name": "stdout",
     "output_type": "stream",
     "text": [
      "Survival Status: Survived\n",
      "Survival Probability: 0.53\n"
     ]
    }
   ],
   "source": [
    "# Function to predict survival\n",
    "def predict_survival(pclass, sex, age):\n",
    "    sibsp = 0\n",
    "    parch = 0\n",
    "    embarked = 0  \n",
    "\n",
    "    if pclass not in [1, 2, 3]:\n",
    "        return \"Invalid Pclass value. It should be 1, 2, or 3.\", None\n",
    "    if sex not in [0, 1]:\n",
    "        return \"Invalid Sex value. It should be 0 for male or 1 for female.\", None\n",
    "    if age <= 0:\n",
    "        return \"Invalid Age value. It should be greater than 0.\", None\n",
    "\n",
    "    new_data = pd.DataFrame({\n",
    "        'Pclass': [pclass],\n",
    "        'Sex': [sex],\n",
    "        'Age': [age],\n",
    "        'SibSp': [sibsp],\n",
    "        'Parch': [parch],\n",
    "        'Embarked': [embarked]\n",
    "    })\n",
    "\n",
    "    # Ensure the new data has the same columns as the training data\n",
    "    new_data = new_data[['Pclass', 'Sex', 'Age', 'SibSp', 'Parch', 'Embarked']]\n",
    "    \n",
    "    new_data_scaled = scaler.transform(new_data)\n",
    "\n",
    "    survival_prediction = model.predict(new_data_scaled)\n",
    "    survival_probability = model.predict_proba(new_data_scaled)\n",
    "\n",
    "    survival_status = \"Survived\" if survival_prediction[0] == 1 else \"Did not survive\"\n",
    "\n",
    "    return survival_status, survival_probability[0][1]\n",
    "\n",
    "# Get user input\n",
    "try:\n",
    "    pclass = int(input(\"Enter Pclass (1, 2, or 3): \"))\n",
    "    sex = int(input(\"Enter Sex (0 for male, 1 for female): \"))\n",
    "    age = float(input(\"Enter Age: \"))\n",
    "\n",
    "    # Make prediction\n",
    "    status, probability = predict_survival(pclass, sex, age)\n",
    "    if probability is not None:\n",
    "        print(f\"Survival Status: {status}\")\n",
    "        print(f\"Survival Probability: {probability:.2f}\")\n",
    "    else:\n",
    "        print(status)\n",
    "except ValueError:\n",
    "    print(\"Invalid input. Please enter valid numbers for Pclass, Sex, and Age.\")\n"
   ]
  },
  {
   "cell_type": "code",
   "execution_count": null,
   "id": "08d8f40d-45c0-4785-acce-98e76f84386e",
   "metadata": {},
   "outputs": [],
   "source": []
  }
 ],
 "metadata": {
  "kernelspec": {
   "display_name": "Python 3 (ipykernel)",
   "language": "python",
   "name": "python3"
  },
  "language_info": {
   "codemirror_mode": {
    "name": "ipython",
    "version": 3
   },
   "file_extension": ".py",
   "mimetype": "text/x-python",
   "name": "python",
   "nbconvert_exporter": "python",
   "pygments_lexer": "ipython3",
   "version": "3.11.7"
  }
 },
 "nbformat": 4,
 "nbformat_minor": 5
}
